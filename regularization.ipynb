{
 "cells": [
  {
   "cell_type": "code",
   "execution_count": 1,
   "metadata": {},
   "outputs": [],
   "source": [
    "import numpy as np\n",
    "from matplotlib import pyplot as plt\n",
    "%matplotlib inline\n",
    "import random"
   ]
  },
  {
   "cell_type": "code",
   "execution_count": 4,
   "metadata": {},
   "outputs": [],
   "source": [
    "def generate_data(w=[3], use_less_data_w=0.001, b=5, data_shape=(1000,1), use_less_data_shape=(1000, 5)):\n",
    "    assert len(w)==data_shape[1], \"the w lenghth should equal to the data's second dimension\"\n",
    "    x = np.random.random(data_shape)\n",
    "    x_2 = np.random.random(use_less_data_shape)\n",
    "    y = np.dot(x, w) + b + np.random.random(data_shape[0]) + use_less_data_w * np.sum(x_2, axis=1)\n",
    "    x = np.c_[x, x_2]\n",
    "    # x = np.stack((x, np.ones(1000)),axis=1)\n",
    "    return x,y"
   ]
  },
  {
   "cell_type": "code",
   "execution_count": 5,
   "metadata": {},
   "outputs": [],
   "source": [
    "def generate_data_2(w=[3], middle_w_base=10, b=5, data_shape=(1000,1)):\n",
    "    assert len(w)==data_shape[1], \"the w lenghth should equal to the data's second dimension\"\n",
    "    x = np.random.random(data_shape)\n",
    "    middle_w = np.random.randint(middle_w_base, size=(data_shape[1]))+1\n",
    "    y = np.dot(x, w) + b + np.random.random(data_shape[0]) * np.mean(middle_w)\n",
    "    x = np.multiply(x, middle_w)\n",
    "#     x = x + middle_w\n",
    "    return x,y"
   ]
  },
  {
   "cell_type": "code",
   "execution_count": 7,
   "metadata": {},
   "outputs": [
    {
     "data": {
      "text/plain": [
       "array([5, 7, 6, 2, 4, 5, 9, 9, 4, 9, 0, 0, 7, 9, 0, 6, 0, 6, 5, 2, 2, 4,\n",
       "       8, 8, 6, 4, 1, 6, 7, 8, 6, 6, 9, 2, 3, 3, 3, 1, 3, 9, 2, 0, 8, 1,\n",
       "       5, 3, 6, 0, 0, 0])"
      ]
     },
     "execution_count": 7,
     "metadata": {},
     "output_type": "execute_result"
    }
   ],
   "source": [
    "w= np.random.randint(10, size=50)\n",
    "w"
   ]
  },
  {
   "cell_type": "code",
   "execution_count": 8,
   "metadata": {},
   "outputs": [
    {
     "data": {
      "text/plain": [
       "array([10, 11, 14, 16, 41, 47, 48, 49], dtype=int64)"
      ]
     },
     "execution_count": 8,
     "metadata": {},
     "output_type": "execute_result"
    }
   ],
   "source": [
    "np.where(w==0)[0]"
   ]
  },
  {
   "cell_type": "code",
   "execution_count": 9,
   "metadata": {},
   "outputs": [],
   "source": [
    "x, y = generate_data(w, data_shape=(1000,50), use_less_data_shape=(1000,5))\n",
    "x_test, y_test = generate_data(w, data_shape=(1000,50), use_less_data_shape=(1000,5))"
   ]
  },
  {
   "cell_type": "code",
   "execution_count": 11,
   "metadata": {},
   "outputs": [
    {
     "data": {
      "text/plain": [
       "0.0902230685465411"
      ]
     },
     "execution_count": 11,
     "metadata": {},
     "output_type": "execute_result"
    }
   ],
   "source": [
    "from sklearn.linear_model import LinearRegression\n",
    "from sklearn.metrics import mean_squared_error as MSE\n",
    "model = LinearRegression()\n",
    "model.fit(x, y)\n",
    "MSE(model.predict(x_test),y_test)\n",
    "# model.score(x_test,y_test)"
   ]
  },
  {
   "cell_type": "code",
   "execution_count": 14,
   "metadata": {},
   "outputs": [
    {
     "data": {
      "text/plain": [
       "array([-0.02735803,  0.00974641,  0.02473195, -0.02281538, -0.01275098,\n",
       "       -0.02656022,  0.07370953, -0.02000806])"
      ]
     },
     "execution_count": 14,
     "metadata": {},
     "output_type": "execute_result"
    }
   ],
   "source": [
    "model.coef_[np.where(w==0)[0]]"
   ]
  },
  {
   "cell_type": "code",
   "execution_count": 18,
   "metadata": {},
   "outputs": [
    {
     "data": {
      "text/plain": [
       "0.14548582233365748"
      ]
     },
     "execution_count": 18,
     "metadata": {},
     "output_type": "execute_result"
    }
   ],
   "source": [
    "from sklearn.linear_model import Lasso\n",
    "model = Lasso(alpha=0.01)\n",
    "model.fit(x, y)\n",
    "MSE(model.predict(x_test),y_test)\n",
    "# model.score(x_test,y_test)"
   ]
  },
  {
   "cell_type": "code",
   "execution_count": 19,
   "metadata": {},
   "outputs": [
    {
     "data": {
      "text/plain": [
       "array([ 4.86910058,  6.84652345,  5.95744935,  1.8529129 ,  3.90142643,\n",
       "        4.93918822,  8.88390875,  8.89910865,  3.82311938,  8.86257632,\n",
       "       -0.        ,  0.        ,  6.88743475,  8.8392203 , -0.        ,\n",
       "        5.8322493 , -0.        ,  5.89628632,  4.82154727,  1.8312726 ,\n",
       "        1.87739164,  3.92971526,  7.87981447,  7.96847455,  5.87574356,\n",
       "        3.93002308,  0.84789317,  5.85497386,  6.83451497,  7.92379129,\n",
       "        5.88405745,  5.83595709,  8.90340781,  1.88813307,  2.82320091,\n",
       "        2.87132123,  2.81426517,  0.93620029,  2.78296263,  8.81944012,\n",
       "        1.83014401, -0.        ,  7.84821256,  0.91719056,  4.93333545,\n",
       "        2.92108559,  5.81778978, -0.        ,  0.        , -0.        ,\n",
       "        0.        , -0.        ,  0.        ,  0.        , -0.        ])"
      ]
     },
     "execution_count": 19,
     "metadata": {},
     "output_type": "execute_result"
    }
   ],
   "source": [
    "model.coef_"
   ]
  },
  {
   "cell_type": "code",
   "execution_count": 146,
   "metadata": {},
   "outputs": [
    {
     "data": {
      "text/plain": [
       "0.1513604812681817"
      ]
     },
     "execution_count": 146,
     "metadata": {},
     "output_type": "execute_result"
    }
   ],
   "source": [
    "MSE(model.predict(x_test),y_test)"
   ]
  },
  {
   "cell_type": "code",
   "execution_count": 20,
   "metadata": {},
   "outputs": [
    {
     "data": {
      "text/plain": [
       "array([ True,  True,  True,  True,  True,  True,  True,  True,  True,\n",
       "        True, False, False,  True,  True, False,  True, False,  True,\n",
       "        True,  True,  True,  True,  True,  True,  True,  True,  True,\n",
       "        True,  True,  True,  True,  True,  True,  True,  True,  True,\n",
       "        True,  True,  True,  True,  True, False,  True,  True,  True,\n",
       "        True,  True, False, False, False, False, False, False, False,\n",
       "       False])"
      ]
     },
     "execution_count": 20,
     "metadata": {},
     "output_type": "execute_result"
    }
   ],
   "source": [
    "column_to_use = model.coef_!=0\n",
    "column_to_use"
   ]
  },
  {
   "cell_type": "code",
   "execution_count": 21,
   "metadata": {},
   "outputs": [
    {
     "data": {
      "text/plain": [
       "array([10, 11, 14, 16, 41, 47, 48, 49, 50, 51, 52, 53, 54], dtype=int64)"
      ]
     },
     "execution_count": 21,
     "metadata": {},
     "output_type": "execute_result"
    }
   ],
   "source": [
    "np.where(column_to_use==0)[0]"
   ]
  },
  {
   "cell_type": "code",
   "execution_count": 22,
   "metadata": {},
   "outputs": [],
   "source": [
    "x_new = x[:, column_to_use]"
   ]
  },
  {
   "cell_type": "code",
   "execution_count": 28,
   "metadata": {},
   "outputs": [
    {
     "data": {
      "text/plain": [
       "0.08769262320507408"
      ]
     },
     "execution_count": 28,
     "metadata": {},
     "output_type": "execute_result"
    }
   ],
   "source": [
    "from sklearn.linear_model import Ridge\n",
    "model = Ridge(alpha=0.1)\n",
    "# model = LinearRegression()\n",
    "model.fit(x_new, y)\n",
    "# model.score(x_test[:, column_to_use],y_test)\n",
    "MSE(model.predict(x_test[:, column_to_use]),y_test)"
   ]
  },
  {
   "cell_type": "code",
   "execution_count": 29,
   "metadata": {},
   "outputs": [
    {
     "data": {
      "text/plain": [
       "array([5, 7, 6, 2, 4, 5, 9, 9, 4, 9, 7, 9, 6, 6, 5, 2, 2, 4, 8, 8, 6, 4,\n",
       "       1, 6, 7, 8, 6, 6, 9, 2, 3, 3, 3, 1, 3, 9, 2, 8, 1, 5, 3, 6])"
      ]
     },
     "execution_count": 29,
     "metadata": {},
     "output_type": "execute_result"
    }
   ],
   "source": [
    "w[column_to_use[:50]]"
   ]
  },
  {
   "cell_type": "code",
   "execution_count": 30,
   "metadata": {},
   "outputs": [
    {
     "data": {
      "text/plain": [
       "array([4.99421153, 6.98303413, 6.04340183, 1.99734616, 4.01173255,\n",
       "       5.0202582 , 8.98479983, 9.0118661 , 4.02141347, 9.01468828,\n",
       "       7.00424434, 8.95836041, 5.95641611, 6.00433438, 4.9639854 ,\n",
       "       1.96471758, 2.02356975, 4.0516431 , 7.95805266, 8.06604347,\n",
       "       5.99517495, 4.02262139, 1.0042141 , 5.9701776 , 6.94968967,\n",
       "       7.99903528, 6.03212242, 5.99743358, 9.00286092, 1.99488365,\n",
       "       2.9949938 , 2.97479668, 2.96803719, 1.02687844, 2.9274404 ,\n",
       "       8.97487637, 1.95835593, 7.92564572, 1.01450759, 5.03679233,\n",
       "       2.99132004, 5.97259984])"
      ]
     },
     "execution_count": 30,
     "metadata": {},
     "output_type": "execute_result"
    }
   ],
   "source": [
    "model.coef_"
   ]
  },
  {
   "cell_type": "code",
   "execution_count": 31,
   "metadata": {},
   "outputs": [],
   "source": [
    "class linear_model:\n",
    "    def __init__(self, learning_rate=0.01):\n",
    "        self.coef_ = []\n",
    "        self.bias = 1\n",
    "        self.lr = learning_rate\n",
    "        \n",
    "    def shuffle_data(self, x, y):\n",
    "        c = list(zip(x, y))\n",
    "        random.shuffle(c)\n",
    "        a, b = zip(*c)\n",
    "        a = np.array(a)\n",
    "        b = np.array(b)\n",
    "        return a, b\n",
    "        \n",
    "    def fit(self, X, y, epochs=100, batch_size=8, seed=42):\n",
    "#         self.coef_ = np.random.random(X.shape[1])\n",
    "        np.seed = seed\n",
    "        random.seed(seed)\n",
    "        self.coef_ = np.ones(X.shape[1])\n",
    "        assert len(X.shape)==2, \"the shape of X need to be 2d\"\n",
    "        assert len(y.shape)==1, \"the shape of y need to be 1d\"\n",
    "        assert len(X)==len(y), \"len of X need to equal len of y\"\n",
    "        for i in range(epochs):\n",
    "            for j in range(len(X)//batch_size - 1):\n",
    "                start = batch_size*j\n",
    "                end = batch_size*(j+1)\n",
    "                self.learn_with_batch_size(X[start:end], y[start:end])\n",
    "            i = len(X)//batch_size - 1\n",
    "            start = i * batch_size\n",
    "            self.learn_with_batch_size(X[start:], y[start:])\n",
    "            X, y = self.shuffle_data(X, y)\n",
    "                \n",
    "    def learn_with_batch_size(self, x, label):\n",
    "        error = np.mean(np.square(np.dot(self.coef_, x.T) + self.bias - label))\n",
    "        residual = np.dot(self.coef_, x.T) + self.bias - label\n",
    "        gradient =  np.mean(np.multiply(self.coef_, x).T * residual, axis=1)\n",
    "        self.coef_ = self.coef_ - gradient * self.lr\n",
    "        self.bias = self.bias - self.lr * np.mean(residual)\n",
    "        \n",
    "    def predict(self, x):\n",
    "        return np.dot(self.coef_, x.T) + self.bias\n",
    "\n",
    "    def score(self, x, y):\n",
    "        return np.mean(np.square(self.predict(x) - y))"
   ]
  },
  {
   "cell_type": "code",
   "execution_count": 32,
   "metadata": {},
   "outputs": [],
   "source": [
    "x, y = generate_data_2(w, data_shape=(2000,50))"
   ]
  },
  {
   "cell_type": "code",
   "execution_count": 35,
   "metadata": {},
   "outputs": [
    {
     "data": {
      "text/plain": [
       "array([9.99830583, 9.98922664, 3.99719407, 5.99806866, 2.9974529 ,\n",
       "       8.99833708, 0.99990138, 3.99961764, 5.99690862, 6.99708788,\n",
       "       8.99396538, 6.99891032, 6.99830037, 2.99968955, 7.99924217,\n",
       "       5.99819094, 9.98911035, 8.99592131, 5.99992025, 6.99434515,\n",
       "       8.99598179, 6.98977723, 6.99986099, 7.99913486, 2.99890488,\n",
       "       2.99934694, 4.99977483, 0.99977293, 2.99979523, 4.99996857,\n",
       "       9.99313873, 2.99779737, 1.99655687, 2.99913645, 8.98997588,\n",
       "       9.998568  , 5.9986904 , 8.99884   , 7.99337524, 1.99872452,\n",
       "       5.99878554, 9.9998971 , 7.99797129, 5.99306994, 8.99730412,\n",
       "       8.98215259, 9.9967338 , 8.9968653 , 4.99974788, 6.99909939])"
      ]
     },
     "execution_count": 35,
     "metadata": {},
     "output_type": "execute_result"
    }
   ],
   "source": [
    "np.max(x, axis=0)"
   ]
  },
  {
   "cell_type": "code",
   "execution_count": 36,
   "metadata": {},
   "outputs": [],
   "source": [
    "from sklearn.model_selection import train_test_split\n",
    "x_train, x_test, y_train, y_test = train_test_split(x, y, test_size=0.3, random_state=42)"
   ]
  },
  {
   "cell_type": "code",
   "execution_count": 39,
   "metadata": {},
   "outputs": [
    {
     "data": {
      "text/plain": [
       "3.7941179372822567"
      ]
     },
     "execution_count": 39,
     "metadata": {},
     "output_type": "execute_result"
    }
   ],
   "source": [
    "model = linear_model(learning_rate=0.001)\n",
    "# model = LinearRegression()\n",
    "model.fit(x_train, y_train)\n",
    "model.score(x_test,y_test)"
   ]
  },
  {
   "cell_type": "code",
   "execution_count": 40,
   "metadata": {},
   "outputs": [],
   "source": [
    "x_new = (x - np.min(x, axis=0)) / (np.max(x, axis=0) - np.min(x, axis=0))\n",
    "y_new = (y - np.min(y)) / (np.max(y) - np.min(y))"
   ]
  },
  {
   "cell_type": "code",
   "execution_count": 42,
   "metadata": {},
   "outputs": [],
   "source": [
    "x_new = (x - np.min(x, axis=0)) / (np.max(x, axis=0) - np.min(x, axis=0))\n",
    "y_new = (y - np.min(y)) / (np.max(y) - np.min(y))"
   ]
  },
  {
   "cell_type": "code",
   "execution_count": 43,
   "metadata": {},
   "outputs": [],
   "source": [
    "from sklearn.preprocessing import MinMaxScaler\n",
    "from sklearn.preprocessing import StandardScaler\n",
    "# sc = MinMaxScaler()\n",
    "sc = StandardScaler()\n",
    "sc.fit(x)\n",
    "x_new = sc.transform(x)\n",
    "# sc_y = MinMaxScaler()\n",
    "sc_y = StandardScaler()\n",
    "y_new = sc_y.fit_transform(y.reshape(-1,1)).reshape(-1)"
   ]
  },
  {
   "cell_type": "code",
   "execution_count": 44,
   "metadata": {},
   "outputs": [],
   "source": [
    "x_train, x_test, y_train, y_test = train_test_split(x_new, y_new, test_size=0.3, random_state=42)"
   ]
  },
  {
   "cell_type": "code",
   "execution_count": 51,
   "metadata": {},
   "outputs": [
    {
     "data": {
      "text/plain": [
       "0.029025830381033492"
      ]
     },
     "execution_count": 51,
     "metadata": {},
     "output_type": "execute_result"
    }
   ],
   "source": [
    "model = linear_model(learning_rate=0.01)\n",
    "model.fit(x_train, y_train)\n",
    "model.score(x_test,y_test)"
   ]
  },
  {
   "cell_type": "code",
   "execution_count": 52,
   "metadata": {},
   "outputs": [
    {
     "data": {
      "text/plain": [
       "0.029025830381033492"
      ]
     },
     "execution_count": 52,
     "metadata": {},
     "output_type": "execute_result"
    }
   ],
   "source": [
    "MSE(model.predict(x_test),y_test)"
   ]
  },
  {
   "cell_type": "code",
   "execution_count": 53,
   "metadata": {},
   "outputs": [
    {
     "data": {
      "text/plain": [
       "3.4866375195891486"
      ]
     },
     "execution_count": 53,
     "metadata": {},
     "output_type": "execute_result"
    }
   ],
   "source": [
    "MSE(sc_y.inverse_transform(model.predict(x_test)), sc_y.inverse_transform(y_test))"
   ]
  },
  {
   "cell_type": "code",
   "execution_count": null,
   "metadata": {},
   "outputs": [],
   "source": []
  }
 ],
 "metadata": {
  "kernelspec": {
   "display_name": "Python 3",
   "language": "python",
   "name": "python3"
  }
 },
 "nbformat": 4,
 "nbformat_minor": 2
}
